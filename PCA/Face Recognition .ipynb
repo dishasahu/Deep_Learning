{
 "cells": [
  {
   "cell_type": "code",
   "execution_count": 2,
   "metadata": {},
   "outputs": [],
   "source": [
    "import numpy as np\n",
    "import pandas as pd \n",
    "import matplotlib.pyplot as plt \n",
    "from sklearn.model_selection import train_test_split\n",
    "import sklearn.preprocessing as skp\n",
    "from scipy import linalg as LA\n",
    "from sklearn.preprocessing import scale\n",
    "from sklearn.linear_model import LogisticRegression\n",
    "from sklearn.metrics import classification_report\n",
    "from sklearn.metrics import confusion_matrix\n",
    "\n",
    "#Load the desire dataset\n",
    "X = np.load(\"Dataset/olivetti_faces.npy\")   \n",
    "Y = np.load(\"Dataset/olivetti_faces_target.npy\")\n",
    "\n",
    "#Spliting the dataset into train and test data\n",
    "X_train, X_test, Y_train, Y_test = train_test_split(X,Y)"
   ]
  },
  {
   "cell_type": "code",
   "execution_count": 3,
   "metadata": {},
   "outputs": [
    {
     "data": {
      "text/plain": [
       "(300, 64, 64)"
      ]
     },
     "execution_count": 3,
     "metadata": {},
     "output_type": "execute_result"
    }
   ],
   "source": [
    "X_train.shape"
   ]
  },
  {
   "cell_type": "code",
   "execution_count": 4,
   "metadata": {},
   "outputs": [
    {
     "data": {
      "text/plain": [
       "(100, 64, 64)"
      ]
     },
     "execution_count": 4,
     "metadata": {},
     "output_type": "execute_result"
    }
   ],
   "source": [
    "X_test.shape"
   ]
  },
  {
   "cell_type": "code",
   "execution_count": 5,
   "metadata": {},
   "outputs": [
    {
     "data": {
      "text/plain": [
       "(300,)"
      ]
     },
     "execution_count": 5,
     "metadata": {},
     "output_type": "execute_result"
    }
   ],
   "source": [
    "Y_train.shape"
   ]
  },
  {
   "cell_type": "code",
   "execution_count": 6,
   "metadata": {},
   "outputs": [
    {
     "data": {
      "text/plain": [
       "(100,)"
      ]
     },
     "execution_count": 6,
     "metadata": {},
     "output_type": "execute_result"
    }
   ],
   "source": [
    "Y_test.shape"
   ]
  },
  {
   "cell_type": "code",
   "execution_count": 7,
   "metadata": {},
   "outputs": [
    {
     "data": {
      "text/plain": [
       "<matplotlib.image.AxesImage at 0x17f190f75f8>"
      ]
     },
     "execution_count": 7,
     "metadata": {},
     "output_type": "execute_result"
    },
    {
     "data": {
      "image/png": "[encoded data removed]",
      "text/plain": [
       "<Figure size 432x288 with 1 Axes>"
      ]
     },
     "metadata": {
      "needs_background": "light"
     },
     "output_type": "display_data"
    }
   ],
   "source": [
    "plt.imshow(X_train[0].reshape(64,64))   #face image of 1st person in the train data "
   ]
  },
  {
   "cell_type": "code",
   "execution_count": 8,
   "metadata": {},
   "outputs": [],
   "source": [
    "#Reshaping the train and test data from 3D to 2D\n",
    "X_train = X_train.flatten().reshape(300,4096)\n",
    "X_test = X_test.flatten().reshape(100,4096)\n",
    "\n",
    "#calculating the mean of train and test data\n",
    "Xtrain_mean =np.mean(X_train,axis=0)\n",
    "Xtest_mean = np.mean(X_test,axis=0)"
   ]
  },
  {
   "cell_type": "code",
   "execution_count": 9,
   "metadata": {},
   "outputs": [
    {
     "data": {
      "text/plain": [
       "array([[ 1.6739062 ,  1.403581  ,  1.3280972 , ..., -0.9118203 ,\n",
       "        -0.7393536 , -1.1088604 ],\n",
       "       [-1.259077  , -0.73024124,  0.4412915 , ...,  0.08273552,\n",
       "         0.25420338,  0.34977284],\n",
       "       [-1.5072526 , -1.7217141 , -1.8390663 , ...,  0.6881174 ,\n",
       "         0.7178632 ,  0.708821  ],\n",
       "       ...,\n",
       "       [ 0.7940113 ,  0.7785219 ,  0.5890924 , ...,  1.3367409 ,\n",
       "        -0.80559075, -0.77225274],\n",
       "       [ 0.11716893,  0.15346284,  0.06123195, ..., -0.13347231,\n",
       "         0.67370516,  1.0005475 ],\n",
       "       [ 1.0647482 ,  1.1880432 ,  1.0958388 , ..., -0.80371636,\n",
       "        -0.58480024, -0.74981225]], dtype=float32)"
      ]
     },
     "execution_count": 9,
     "metadata": {},
     "output_type": "execute_result"
    }
   ],
   "source": [
    "#Standardization of train data for geting zero mean and all the variables are transformed to one scale\n",
    "scaler=skp.StandardScaler(copy=False).fit(X_train)  \n",
    "scaler.transform(X_train)"
   ]
  },
  {
   "cell_type": "code",
   "execution_count": 10,
   "metadata": {},
   "outputs": [
    {
     "data": {
      "text/plain": [
       "(4096,)"
      ]
     },
     "execution_count": 10,
     "metadata": {},
     "output_type": "execute_result"
    }
   ],
   "source": [
    "Xtrain_mean.shape"
   ]
  },
  {
   "cell_type": "code",
   "execution_count": 11,
   "metadata": {},
   "outputs": [
    {
     "data": {
      "text/plain": [
       "(4096,)"
      ]
     },
     "execution_count": 11,
     "metadata": {},
     "output_type": "execute_result"
    }
   ],
   "source": [
    "Xtest_mean.shape"
   ]
  },
  {
   "cell_type": "code",
   "execution_count": 12,
   "metadata": {},
   "outputs": [
    {
     "data": {
      "text/plain": [
       "array([[ 0.62622297,  0.46168232,  0.30880898, ...,  1.8455914 ,\n",
       "         1.7806572 ,  1.7571034 ],\n",
       "       [ 1.4663075 ,  1.257686  ,  1.023444  , ..., -0.90902257,\n",
       "        -0.8957537 , -0.81534296],\n",
       "       [-0.57389784, -1.0393534 , -1.5752292 , ...,  0.05626959,\n",
       "        -0.00361676, -0.05585875],\n",
       "       ...,\n",
       "       [ 0.7222325 ,  0.4161963 ,  0.3954313 , ..., -0.15562393,\n",
       "        -0.26884657, -0.15385675],\n",
       "       [-0.5018904 , -1.0620962 , -0.16761447, ...,  0.45651254,\n",
       "         1.5395392 ,  1.8061025 ],\n",
       "       [-0.3098712 , -0.81192374, -1.5102623 , ..., -0.20271128,\n",
       "        -0.14828761, -0.0803583 ]], dtype=float32)"
      ]
     },
     "execution_count": 12,
     "metadata": {},
     "output_type": "execute_result"
    }
   ],
   "source": [
    "#Standardization of test data for getting zero mean \n",
    "scaler=skp.StandardScaler(copy=False).fit(X_test)\n",
    "scaler.transform(X_test)"
   ]
  },
  {
   "cell_type": "code",
   "execution_count": 13,
   "metadata": {},
   "outputs": [],
   "source": [
    "#Covariance - for finding if there any realtion exist between the features or not \n",
    "cov_train = np.cov(X_train.T)"
   ]
  },
  {
   "cell_type": "code",
   "execution_count": 14,
   "metadata": {},
   "outputs": [
    {
     "data": {
      "text/plain": [
       "array([ 1.00334394,  0.94649249,  0.81430276, ..., -0.13249098,\n",
       "       -0.14228944, -0.11215588])"
      ]
     },
     "execution_count": 14,
     "metadata": {},
     "output_type": "execute_result"
    }
   ],
   "source": [
    "cov_train[0]"
   ]
  },
  {
   "cell_type": "code",
   "execution_count": 15,
   "metadata": {},
   "outputs": [
    {
     "data": {
      "text/plain": [
       "(4096, 4096)"
      ]
     },
     "execution_count": 15,
     "metadata": {},
     "output_type": "execute_result"
    }
   ],
   "source": [
    "cov_train.shape"
   ]
  },
  {
   "cell_type": "code",
   "execution_count": 16,
   "metadata": {},
   "outputs": [],
   "source": [
    "#Calulating Eigenvalues and Eigenvectors \n",
    "#Eigenvectors of a covariance matrix are actually the direction of matrix where there is maximum variation called as PRINCIPAL COMPONENT\n",
    "eig_values,eig_vectors = LA.eig(cov_train)"
   ]
  },
  {
   "cell_type": "code",
   "execution_count": 17,
   "metadata": {},
   "outputs": [
    {
     "data": {
      "text/plain": [
       "(1063.6772251997315+0j)"
      ]
     },
     "execution_count": 17,
     "metadata": {},
     "output_type": "execute_result"
    }
   ],
   "source": [
    "eig_values[0]"
   ]
  },
  {
   "cell_type": "code",
   "execution_count": 18,
   "metadata": {},
   "outputs": [
    {
     "data": {
      "text/plain": [
       "array([-1.60395520e-03+0.j        ,  2.10570094e-02+0.j        ,\n",
       "        8.67287656e-04+0.j        , ..., -4.49743913e-05+0.00096251j,\n",
       "       -4.49743913e-05-0.00096251j, -1.20088246e-03+0.j        ])"
      ]
     },
     "execution_count": 18,
     "metadata": {},
     "output_type": "execute_result"
    }
   ],
   "source": [
    "eig_vectors[0]"
   ]
  },
  {
   "cell_type": "code",
   "execution_count": 19,
   "metadata": {},
   "outputs": [],
   "source": [
    "#Eig_pairs is the ranking of Eigenvalues from highest to lowest which gives us the order of PRINCIPAL COMPONENT\n",
    "eig_pairs = [(np.abs(eig_values[i]), eig_vectors[:,i]) for i in range(len(eig_values))]\n",
    "eig_pairs.sort(key=lambda x: x[0], reverse=True)"
   ]
  },
  {
   "cell_type": "code",
   "execution_count": 20,
   "metadata": {},
   "outputs": [
    {
     "data": {
      "text/plain": [
       "1063.6772251997315"
      ]
     },
     "execution_count": 20,
     "metadata": {},
     "output_type": "execute_result"
    }
   ],
   "source": [
    "\n",
    "eig_pairs[0][0]"
   ]
  },
  {
   "cell_type": "code",
   "execution_count": 21,
   "metadata": {},
   "outputs": [],
   "source": [
    "Threshold = 95   #threshold upon which we can decide whether to keep or discard each feature vector.\n",
    "total = sum(eig_values)\n",
    "\n",
    "# % variance accounted by each component\n",
    "var_exp = [(i / total)*100 for i in sorted(eig_values, reverse=True)]\n",
    "cum_var_exp = np.cumsum(var_exp)\n",
    "\n",
    "num_vec_to_keep = 0\n",
    "\n",
    "for index, percentage in enumerate(cum_var_exp):\n",
    "    if percentage > Threshold:                 \n",
    "        num_vec_to_keep = index + 1\n",
    "        break \n",
    "\n",
    "# Froming the FEATURE VECTOR        \n",
    "num_features = X_train.shape[1]\n",
    "proj_mat = eig_pairs[0][1].reshape(num_features,1)\n",
    "for eig_vec_idx in range(1, num_vec_to_keep):\n",
    "    proj_mat = np.hstack((proj_mat, eig_pairs[eig_vec_idx][1].reshape(num_features,1)))\n",
    "    pca_data = X_train @ proj_mat  "
   ]
  },
  {
   "cell_type": "code",
   "execution_count": 22,
   "metadata": {},
   "outputs": [
    {
     "data": {
      "text/plain": [
       "(300, 107)"
      ]
     },
     "execution_count": 22,
     "metadata": {},
     "output_type": "execute_result"
    }
   ],
   "source": [
    "pca_data.shape"
   ]
  },
  {
   "cell_type": "code",
   "execution_count": 23,
   "metadata": {},
   "outputs": [
    {
     "data": {
      "text/plain": [
       "array([[ -1.15254114,  15.36058684,   1.57835463, ...,   0.30456115,\n",
       "         -2.55025207,   2.21157194],\n",
       "       [  2.44721066,  19.95977588,  -2.72995787, ...,  -1.76328959,\n",
       "         -0.64821816,   0.42835203],\n",
       "       [-22.50957303, -23.4269467 ,  19.82823436, ...,   0.60157624,\n",
       "          2.46964053,  -2.07024134],\n",
       "       ...,\n",
       "       [-29.15932973,  -2.65736163, -16.31178044, ...,  -1.35999035,\n",
       "          1.11301502,  -1.97746226],\n",
       "       [ 66.62167703,   5.90876757, -22.77292503, ...,  -0.98838159,\n",
       "          1.58418476,   1.27924876],\n",
       "       [-26.39905303,   5.09560684,  30.43029413, ...,   0.55973344,\n",
       "          0.26170864,  -3.08436544]])"
      ]
     },
     "execution_count": 23,
     "metadata": {},
     "output_type": "execute_result"
    }
   ],
   "source": [
    "pca_data=pca_data.real\n",
    "pca_data"
   ]
  },
  {
   "cell_type": "code",
   "execution_count": 24,
   "metadata": {},
   "outputs": [],
   "source": [
    "Threshold = 95\n",
    "total = sum(eig_values)\n",
    "var_exp = [(i / total)*100 for i in sorted(eig_values, reverse=True)]\n",
    "cum_var_exp = np.cumsum(var_exp)\n",
    "\n",
    "num_vec_to_keep = 0\n",
    "\n",
    "for index, percentage in enumerate(cum_var_exp):\n",
    "    if percentage > Threshold:\n",
    "        num_vec_to_keep = index + 1\n",
    "        break \n",
    "            \n",
    "num_features = X_test.shape[1]\n",
    "proj_mat = eig_pairs[0][1].reshape(num_features,1)\n",
    "for eig_vec_idx in range(1, num_vec_to_keep):\n",
    "    proj_mat = np.hstack((proj_mat, eig_pairs[eig_vec_idx][1].reshape(num_features,1)))\n",
    "    test_pca_data = X_test @ proj_mat"
   ]
  },
  {
   "cell_type": "code",
   "execution_count": 25,
   "metadata": {},
   "outputs": [
    {
     "data": {
      "text/plain": [
       "(100, 107)"
      ]
     },
     "execution_count": 25,
     "metadata": {},
     "output_type": "execute_result"
    }
   ],
   "source": [
    "test_pca_data.shape"
   ]
  },
  {
   "cell_type": "code",
   "execution_count": 26,
   "metadata": {},
   "outputs": [],
   "source": [
    "test_pca_data=test_pca_data.real"
   ]
  },
  {
   "cell_type": "code",
   "execution_count": null,
   "metadata": {},
   "outputs": [],
   "source": [
    "# Feeding these Feature vactors into any Machine Learning model(Logistic Regression) "
   ]
  },
  {
   "cell_type": "code",
   "execution_count": 27,
   "metadata": {},
   "outputs": [
    {
     "name": "stderr",
     "output_type": "stream",
     "text": [
      "C:\\Users\\Hp\\Anaconda3\\lib\\site-packages\\sklearn\\linear_model\\logistic.py:433: FutureWarning: Default solver will be changed to 'lbfgs' in 0.22. Specify a solver to silence this warning.\n",
      "  FutureWarning)\n",
      "C:\\Users\\Hp\\Anaconda3\\lib\\site-packages\\sklearn\\linear_model\\logistic.py:460: FutureWarning: Default multi_class will be changed to 'auto' in 0.22. Specify the multi_class option to silence this warning.\n",
      "  \"this warning.\", FutureWarning)\n"
     ]
    },
    {
     "name": "stdout",
     "output_type": "stream",
     "text": [
      "LogisticRegression(C=1.0, class_weight=None, dual=False, fit_intercept=True,\n",
      "          intercept_scaling=1, max_iter=100, multi_class='warn',\n",
      "          n_jobs=None, penalty='l2', random_state=None, solver='warn',\n",
      "          tol=0.0001, verbose=0, warm_start=False)\n"
     ]
    }
   ],
   "source": [
    "model = LogisticRegression()\n",
    "print(model.fit(pca_data,Y_train))"
   ]
  },
  {
   "cell_type": "code",
   "execution_count": 28,
   "metadata": {},
   "outputs": [
    {
     "name": "stdout",
     "output_type": "stream",
     "text": [
      "              precision    recall  f1-score   support\n",
      "\n",
      "           0       1.00      1.00      1.00         7\n",
      "           1       1.00      1.00      1.00         6\n",
      "           2       1.00      1.00      1.00         8\n",
      "           3       1.00      1.00      1.00         5\n",
      "           4       1.00      1.00      1.00         7\n",
      "           5       1.00      1.00      1.00         8\n",
      "           6       1.00      1.00      1.00         9\n",
      "           7       1.00      1.00      1.00         7\n",
      "           8       1.00      1.00      1.00         8\n",
      "           9       1.00      1.00      1.00         7\n",
      "          10       1.00      1.00      1.00         9\n",
      "          11       1.00      1.00      1.00         8\n",
      "          12       1.00      1.00      1.00         8\n",
      "          13       1.00      1.00      1.00         8\n",
      "          14       1.00      1.00      1.00         8\n",
      "          15       1.00      1.00      1.00         7\n",
      "          16       1.00      1.00      1.00         8\n",
      "          17       1.00      1.00      1.00         7\n",
      "          18       1.00      1.00      1.00         7\n",
      "          19       1.00      1.00      1.00         6\n",
      "          20       1.00      1.00      1.00         8\n",
      "          21       1.00      1.00      1.00         6\n",
      "          22       1.00      1.00      1.00         9\n",
      "          23       1.00      1.00      1.00         7\n",
      "          24       1.00      1.00      1.00         6\n",
      "          25       1.00      1.00      1.00         7\n",
      "          26       1.00      1.00      1.00         9\n",
      "          27       1.00      1.00      1.00         8\n",
      "          28       1.00      1.00      1.00         8\n",
      "          29       1.00      1.00      1.00         9\n",
      "          30       1.00      1.00      1.00         8\n",
      "          31       1.00      1.00      1.00         9\n",
      "          32       1.00      1.00      1.00         6\n",
      "          33       1.00      1.00      1.00         8\n",
      "          34       1.00      1.00      1.00         9\n",
      "          35       1.00      1.00      1.00         8\n",
      "          36       1.00      1.00      1.00         8\n",
      "          37       1.00      1.00      1.00         9\n",
      "          38       1.00      1.00      1.00         3\n",
      "          39       1.00      1.00      1.00         7\n",
      "\n",
      "   micro avg       1.00      1.00      1.00       300\n",
      "   macro avg       1.00      1.00      1.00       300\n",
      "weighted avg       1.00      1.00      1.00       300\n",
      "\n"
     ]
    }
   ],
   "source": [
    "train_predicted=model.predict(pca_data)\n",
    "print(classification_report(Y_train,train_predicted))"
   ]
  },
  {
   "cell_type": "code",
   "execution_count": 29,
   "metadata": {},
   "outputs": [
    {
     "name": "stdout",
     "output_type": "stream",
     "text": [
      "0.94\n"
     ]
    }
   ],
   "source": [
    "prediction=model.predict(test_pca_data)\n",
    "score = model.score(test_pca_data, Y_test)\n",
    "print(score)"
   ]
  },
  {
   "cell_type": "code",
   "execution_count": 30,
   "metadata": {},
   "outputs": [
    {
     "name": "stdout",
     "output_type": "stream",
     "text": [
      "              precision    recall  f1-score   support\n",
      "\n",
      "           0       1.00      0.33      0.50         3\n",
      "           1       1.00      1.00      1.00         4\n",
      "           2       0.50      0.50      0.50         2\n",
      "           3       1.00      0.80      0.89         5\n",
      "           4       1.00      1.00      1.00         3\n",
      "           5       1.00      1.00      1.00         2\n",
      "           6       1.00      1.00      1.00         1\n",
      "           7       0.67      0.67      0.67         3\n",
      "           8       1.00      1.00      1.00         2\n",
      "           9       1.00      1.00      1.00         3\n",
      "          10       1.00      1.00      1.00         1\n",
      "          11       1.00      1.00      1.00         2\n",
      "          12       1.00      1.00      1.00         2\n",
      "          13       1.00      1.00      1.00         2\n",
      "          14       0.67      1.00      0.80         2\n",
      "          15       1.00      1.00      1.00         3\n",
      "          16       1.00      1.00      1.00         2\n",
      "          17       1.00      1.00      1.00         3\n",
      "          18       1.00      1.00      1.00         3\n",
      "          19       1.00      1.00      1.00         4\n",
      "          20       1.00      1.00      1.00         2\n",
      "          21       1.00      1.00      1.00         4\n",
      "          22       1.00      1.00      1.00         1\n",
      "          23       0.75      1.00      0.86         3\n",
      "          24       1.00      1.00      1.00         4\n",
      "          25       0.75      1.00      0.86         3\n",
      "          26       1.00      1.00      1.00         1\n",
      "          27       1.00      1.00      1.00         2\n",
      "          28       1.00      1.00      1.00         2\n",
      "          29       1.00      1.00      1.00         1\n",
      "          30       1.00      1.00      1.00         2\n",
      "          31       1.00      1.00      1.00         1\n",
      "          32       1.00      1.00      1.00         4\n",
      "          33       1.00      1.00      1.00         2\n",
      "          34       1.00      1.00      1.00         1\n",
      "          35       1.00      1.00      1.00         2\n",
      "          36       0.67      1.00      0.80         2\n",
      "          37       1.00      1.00      1.00         1\n",
      "          38       1.00      0.86      0.92         7\n",
      "          39       1.00      1.00      1.00         3\n",
      "\n",
      "   micro avg       0.94      0.94      0.94       100\n",
      "   macro avg       0.95      0.95      0.94       100\n",
      "weighted avg       0.95      0.94      0.94       100\n",
      "\n"
     ]
    }
   ],
   "source": [
    "print(classification_report(Y_test,prediction))"
   ]
  },
  {
   "cell_type": "code",
   "execution_count": 31,
   "metadata": {},
   "outputs": [
    {
     "name": "stdout",
     "output_type": "stream",
     "text": [
      "[[1 0 0 ... 0 0 0]\n",
      " [0 4 0 ... 0 0 0]\n",
      " [0 0 1 ... 0 0 0]\n",
      " ...\n",
      " [0 0 0 ... 1 0 0]\n",
      " [0 0 0 ... 0 6 0]\n",
      " [0 0 0 ... 0 0 3]]\n"
     ]
    }
   ],
   "source": [
    "print(confusion_matrix(Y_test,prediction))"
   ]
  },
  {
   "cell_type": "code",
   "execution_count": null,
   "metadata": {},
   "outputs": [],
   "source": []
  },
  {
   "cell_type": "code",
   "execution_count": null,
   "metadata": {},
   "outputs": [],
   "source": []
  },
  {
   "cell_type": "code",
   "execution_count": null,
   "metadata": {},
   "outputs": [],
   "source": []
  }
 ],
 "metadata": {
  "kernelspec": {
   "display_name": "Python 3",
   "language": "python",
   "name": "python3"
  },
  "language_info": {
   "codemirror_mode": {
    "name": "ipython",
    "version": 3
   },
   "file_extension": ".py",
   "mimetype": "text/x-python",
   "name": "python",
   "nbconvert_exporter": "python",
   "pygments_lexer": "ipython3",
   "version": "3.7.1"
  }
 },
 "nbformat": 4,
 "nbformat_minor": 2
}
